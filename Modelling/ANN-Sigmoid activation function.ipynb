{
 "cells": [
  {
   "cell_type": "markdown",
   "id": "d4411bf3",
   "metadata": {
    "colab_type": "text",
    "id": "LWd1UlMnhT2s"
   },
   "source": [
    "# Importing the libraries"
   ]
  },
  {
   "cell_type": "code",
   "execution_count": 2,
   "id": "19d87bca",
   "metadata": {
    "colab": {},
    "colab_type": "code",
    "id": "YvGPUQaHhXfL"
   },
   "outputs": [],
   "source": [
    "import numpy as np\n",
    "import matplotlib.pyplot as plt\n",
    "import pandas as pd\n",
    "import tensorflow as tf"
   ]
  },
  {
   "cell_type": "markdown",
   "id": "0275f57e",
   "metadata": {
    "colab_type": "text",
    "id": "K1VMqkGvhc3-"
   },
   "source": [
    "## Importing the dataset"
   ]
  },
  {
   "cell_type": "code",
   "execution_count": 3,
   "id": "f47bafed",
   "metadata": {},
   "outputs": [],
   "source": [
    "dataset = pd.read_csv('bank_data_preprocessed.csv')"
   ]
  },
  {
   "cell_type": "code",
   "execution_count": 4,
   "id": "22f9af1d",
   "metadata": {},
   "outputs": [],
   "source": [
    "# The target(s) (dependent variable) is 'log price'\n",
    "y = dataset['y']\n",
    "\n",
    "# The inputs are everything BUT the dependent variable, so we can simply drop it\n",
    "X = dataset.drop(['y'],axis=1)"
   ]
  },
  {
   "cell_type": "code",
   "execution_count": 5,
   "id": "50b9c4e5",
   "metadata": {},
   "outputs": [
    {
     "data": {
      "text/plain": [
       "(30360, 47)"
      ]
     },
     "execution_count": 5,
     "metadata": {},
     "output_type": "execute_result"
    }
   ],
   "source": [
    "X.shape"
   ]
  },
  {
   "cell_type": "markdown",
   "id": "b2310dec",
   "metadata": {
    "colab_type": "text",
    "id": "YvxIPVyMhmKp"
   },
   "source": [
    "## Splitting the dataset into the Training set and Test set"
   ]
  },
  {
   "cell_type": "code",
   "execution_count": 29,
   "id": "65e757b3",
   "metadata": {
    "colab": {},
    "colab_type": "code",
    "id": "AVzJWAXIhxoC"
   },
   "outputs": [],
   "source": [
    "from sklearn.model_selection import train_test_split\n",
    "# Split the data into train, validation, and test sets\n",
    "X_train, X_temp, y_train, y_temp = train_test_split(X, y, test_size=0.2, random_state=0)\n",
    "X_valid, X_test, y_valid, y_test = train_test_split(X_temp, y_temp, test_size=0.5, random_state=0)"
   ]
  },
  {
   "cell_type": "code",
   "execution_count": 30,
   "id": "5f5adba7",
   "metadata": {},
   "outputs": [
    {
     "data": {
      "text/html": [
       "<div>\n",
       "<style scoped>\n",
       "    .dataframe tbody tr th:only-of-type {\n",
       "        vertical-align: middle;\n",
       "    }\n",
       "\n",
       "    .dataframe tbody tr th {\n",
       "        vertical-align: top;\n",
       "    }\n",
       "\n",
       "    .dataframe thead th {\n",
       "        text-align: right;\n",
       "    }\n",
       "</style>\n",
       "<table border=\"1\" class=\"dataframe\">\n",
       "  <thead>\n",
       "    <tr style=\"text-align: right;\">\n",
       "      <th></th>\n",
       "      <th>age</th>\n",
       "      <th>duration</th>\n",
       "      <th>campaign</th>\n",
       "      <th>cons.conf.idx</th>\n",
       "      <th>job_blue-collar</th>\n",
       "      <th>job_entrepreneur</th>\n",
       "      <th>job_housemaid</th>\n",
       "      <th>job_management</th>\n",
       "      <th>job_retired</th>\n",
       "      <th>job_self-employed</th>\n",
       "      <th>...</th>\n",
       "      <th>month_may</th>\n",
       "      <th>month_nov</th>\n",
       "      <th>month_oct</th>\n",
       "      <th>month_sep</th>\n",
       "      <th>day_of_week_mon</th>\n",
       "      <th>day_of_week_thu</th>\n",
       "      <th>day_of_week_tue</th>\n",
       "      <th>day_of_week_wed</th>\n",
       "      <th>poutcome_nonexistent</th>\n",
       "      <th>poutcome_success</th>\n",
       "    </tr>\n",
       "  </thead>\n",
       "  <tbody>\n",
       "    <tr>\n",
       "      <th>12238</th>\n",
       "      <td>31</td>\n",
       "      <td>97</td>\n",
       "      <td>2</td>\n",
       "      <td>-42.7</td>\n",
       "      <td>0</td>\n",
       "      <td>1</td>\n",
       "      <td>0</td>\n",
       "      <td>0</td>\n",
       "      <td>0</td>\n",
       "      <td>0</td>\n",
       "      <td>...</td>\n",
       "      <td>0</td>\n",
       "      <td>0</td>\n",
       "      <td>0</td>\n",
       "      <td>0</td>\n",
       "      <td>1</td>\n",
       "      <td>0</td>\n",
       "      <td>0</td>\n",
       "      <td>0</td>\n",
       "      <td>1</td>\n",
       "      <td>0</td>\n",
       "    </tr>\n",
       "    <tr>\n",
       "      <th>12414</th>\n",
       "      <td>43</td>\n",
       "      <td>81</td>\n",
       "      <td>3</td>\n",
       "      <td>-42.7</td>\n",
       "      <td>0</td>\n",
       "      <td>0</td>\n",
       "      <td>0</td>\n",
       "      <td>0</td>\n",
       "      <td>0</td>\n",
       "      <td>0</td>\n",
       "      <td>...</td>\n",
       "      <td>0</td>\n",
       "      <td>0</td>\n",
       "      <td>0</td>\n",
       "      <td>0</td>\n",
       "      <td>1</td>\n",
       "      <td>0</td>\n",
       "      <td>0</td>\n",
       "      <td>0</td>\n",
       "      <td>1</td>\n",
       "      <td>0</td>\n",
       "    </tr>\n",
       "    <tr>\n",
       "      <th>21652</th>\n",
       "      <td>35</td>\n",
       "      <td>94</td>\n",
       "      <td>1</td>\n",
       "      <td>-42.0</td>\n",
       "      <td>0</td>\n",
       "      <td>0</td>\n",
       "      <td>0</td>\n",
       "      <td>0</td>\n",
       "      <td>0</td>\n",
       "      <td>0</td>\n",
       "      <td>...</td>\n",
       "      <td>0</td>\n",
       "      <td>1</td>\n",
       "      <td>0</td>\n",
       "      <td>0</td>\n",
       "      <td>0</td>\n",
       "      <td>0</td>\n",
       "      <td>0</td>\n",
       "      <td>1</td>\n",
       "      <td>1</td>\n",
       "      <td>0</td>\n",
       "    </tr>\n",
       "    <tr>\n",
       "      <th>25702</th>\n",
       "      <td>35</td>\n",
       "      <td>195</td>\n",
       "      <td>1</td>\n",
       "      <td>-46.2</td>\n",
       "      <td>1</td>\n",
       "      <td>0</td>\n",
       "      <td>0</td>\n",
       "      <td>0</td>\n",
       "      <td>0</td>\n",
       "      <td>0</td>\n",
       "      <td>...</td>\n",
       "      <td>1</td>\n",
       "      <td>0</td>\n",
       "      <td>0</td>\n",
       "      <td>0</td>\n",
       "      <td>0</td>\n",
       "      <td>1</td>\n",
       "      <td>0</td>\n",
       "      <td>0</td>\n",
       "      <td>1</td>\n",
       "      <td>0</td>\n",
       "    </tr>\n",
       "    <tr>\n",
       "      <th>20051</th>\n",
       "      <td>39</td>\n",
       "      <td>145</td>\n",
       "      <td>2</td>\n",
       "      <td>-36.1</td>\n",
       "      <td>0</td>\n",
       "      <td>0</td>\n",
       "      <td>0</td>\n",
       "      <td>0</td>\n",
       "      <td>0</td>\n",
       "      <td>0</td>\n",
       "      <td>...</td>\n",
       "      <td>0</td>\n",
       "      <td>0</td>\n",
       "      <td>0</td>\n",
       "      <td>0</td>\n",
       "      <td>0</td>\n",
       "      <td>0</td>\n",
       "      <td>0</td>\n",
       "      <td>1</td>\n",
       "      <td>1</td>\n",
       "      <td>0</td>\n",
       "    </tr>\n",
       "  </tbody>\n",
       "</table>\n",
       "<p>5 rows × 47 columns</p>\n",
       "</div>"
      ],
      "text/plain": [
       "       age  duration  campaign  cons.conf.idx  job_blue-collar  \\\n",
       "12238   31        97         2          -42.7                0   \n",
       "12414   43        81         3          -42.7                0   \n",
       "21652   35        94         1          -42.0                0   \n",
       "25702   35       195         1          -46.2                1   \n",
       "20051   39       145         2          -36.1                0   \n",
       "\n",
       "       job_entrepreneur  job_housemaid  job_management  job_retired  \\\n",
       "12238                 1              0               0            0   \n",
       "12414                 0              0               0            0   \n",
       "21652                 0              0               0            0   \n",
       "25702                 0              0               0            0   \n",
       "20051                 0              0               0            0   \n",
       "\n",
       "       job_self-employed  ...  month_may  month_nov  month_oct  month_sep  \\\n",
       "12238                  0  ...          0          0          0          0   \n",
       "12414                  0  ...          0          0          0          0   \n",
       "21652                  0  ...          0          1          0          0   \n",
       "25702                  0  ...          1          0          0          0   \n",
       "20051                  0  ...          0          0          0          0   \n",
       "\n",
       "       day_of_week_mon  day_of_week_thu  day_of_week_tue  day_of_week_wed  \\\n",
       "12238                1                0                0                0   \n",
       "12414                1                0                0                0   \n",
       "21652                0                0                0                1   \n",
       "25702                0                1                0                0   \n",
       "20051                0                0                0                1   \n",
       "\n",
       "       poutcome_nonexistent  poutcome_success  \n",
       "12238                     1                 0  \n",
       "12414                     1                 0  \n",
       "21652                     1                 0  \n",
       "25702                     1                 0  \n",
       "20051                     1                 0  \n",
       "\n",
       "[5 rows x 47 columns]"
      ]
     },
     "execution_count": 30,
     "metadata": {},
     "output_type": "execute_result"
    }
   ],
   "source": [
    "X_train.head()"
   ]
  },
  {
   "cell_type": "code",
   "execution_count": 31,
   "id": "b4cbfd3c",
   "metadata": {
    "scrolled": true
   },
   "outputs": [
    {
     "data": {
      "text/html": [
       "<div>\n",
       "<style scoped>\n",
       "    .dataframe tbody tr th:only-of-type {\n",
       "        vertical-align: middle;\n",
       "    }\n",
       "\n",
       "    .dataframe tbody tr th {\n",
       "        vertical-align: top;\n",
       "    }\n",
       "\n",
       "    .dataframe thead th {\n",
       "        text-align: right;\n",
       "    }\n",
       "</style>\n",
       "<table border=\"1\" class=\"dataframe\">\n",
       "  <thead>\n",
       "    <tr style=\"text-align: right;\">\n",
       "      <th></th>\n",
       "      <th>age</th>\n",
       "      <th>duration</th>\n",
       "      <th>campaign</th>\n",
       "      <th>cons.conf.idx</th>\n",
       "      <th>job_blue-collar</th>\n",
       "      <th>job_entrepreneur</th>\n",
       "      <th>job_housemaid</th>\n",
       "      <th>job_management</th>\n",
       "      <th>job_retired</th>\n",
       "      <th>job_self-employed</th>\n",
       "      <th>...</th>\n",
       "      <th>month_may</th>\n",
       "      <th>month_nov</th>\n",
       "      <th>month_oct</th>\n",
       "      <th>month_sep</th>\n",
       "      <th>day_of_week_mon</th>\n",
       "      <th>day_of_week_thu</th>\n",
       "      <th>day_of_week_tue</th>\n",
       "      <th>day_of_week_wed</th>\n",
       "      <th>poutcome_nonexistent</th>\n",
       "      <th>poutcome_success</th>\n",
       "    </tr>\n",
       "  </thead>\n",
       "  <tbody>\n",
       "    <tr>\n",
       "      <th>12724</th>\n",
       "      <td>35</td>\n",
       "      <td>78</td>\n",
       "      <td>4</td>\n",
       "      <td>-42.7</td>\n",
       "      <td>0</td>\n",
       "      <td>0</td>\n",
       "      <td>0</td>\n",
       "      <td>0</td>\n",
       "      <td>0</td>\n",
       "      <td>0</td>\n",
       "      <td>...</td>\n",
       "      <td>0</td>\n",
       "      <td>0</td>\n",
       "      <td>0</td>\n",
       "      <td>0</td>\n",
       "      <td>0</td>\n",
       "      <td>0</td>\n",
       "      <td>1</td>\n",
       "      <td>0</td>\n",
       "      <td>1</td>\n",
       "      <td>0</td>\n",
       "    </tr>\n",
       "    <tr>\n",
       "      <th>6798</th>\n",
       "      <td>36</td>\n",
       "      <td>212</td>\n",
       "      <td>3</td>\n",
       "      <td>-36.4</td>\n",
       "      <td>0</td>\n",
       "      <td>0</td>\n",
       "      <td>0</td>\n",
       "      <td>0</td>\n",
       "      <td>0</td>\n",
       "      <td>1</td>\n",
       "      <td>...</td>\n",
       "      <td>1</td>\n",
       "      <td>0</td>\n",
       "      <td>0</td>\n",
       "      <td>0</td>\n",
       "      <td>0</td>\n",
       "      <td>0</td>\n",
       "      <td>0</td>\n",
       "      <td>0</td>\n",
       "      <td>1</td>\n",
       "      <td>0</td>\n",
       "    </tr>\n",
       "    <tr>\n",
       "      <th>28379</th>\n",
       "      <td>65</td>\n",
       "      <td>579</td>\n",
       "      <td>1</td>\n",
       "      <td>-40.8</td>\n",
       "      <td>0</td>\n",
       "      <td>0</td>\n",
       "      <td>0</td>\n",
       "      <td>0</td>\n",
       "      <td>1</td>\n",
       "      <td>0</td>\n",
       "      <td>...</td>\n",
       "      <td>0</td>\n",
       "      <td>0</td>\n",
       "      <td>0</td>\n",
       "      <td>0</td>\n",
       "      <td>1</td>\n",
       "      <td>0</td>\n",
       "      <td>0</td>\n",
       "      <td>0</td>\n",
       "      <td>1</td>\n",
       "      <td>0</td>\n",
       "    </tr>\n",
       "    <tr>\n",
       "      <th>6813</th>\n",
       "      <td>50</td>\n",
       "      <td>81</td>\n",
       "      <td>2</td>\n",
       "      <td>-36.4</td>\n",
       "      <td>1</td>\n",
       "      <td>0</td>\n",
       "      <td>0</td>\n",
       "      <td>0</td>\n",
       "      <td>0</td>\n",
       "      <td>0</td>\n",
       "      <td>...</td>\n",
       "      <td>1</td>\n",
       "      <td>0</td>\n",
       "      <td>0</td>\n",
       "      <td>0</td>\n",
       "      <td>0</td>\n",
       "      <td>0</td>\n",
       "      <td>0</td>\n",
       "      <td>0</td>\n",
       "      <td>1</td>\n",
       "      <td>0</td>\n",
       "    </tr>\n",
       "    <tr>\n",
       "      <th>4718</th>\n",
       "      <td>31</td>\n",
       "      <td>364</td>\n",
       "      <td>2</td>\n",
       "      <td>-36.4</td>\n",
       "      <td>1</td>\n",
       "      <td>0</td>\n",
       "      <td>0</td>\n",
       "      <td>0</td>\n",
       "      <td>0</td>\n",
       "      <td>0</td>\n",
       "      <td>...</td>\n",
       "      <td>1</td>\n",
       "      <td>0</td>\n",
       "      <td>0</td>\n",
       "      <td>0</td>\n",
       "      <td>0</td>\n",
       "      <td>0</td>\n",
       "      <td>0</td>\n",
       "      <td>0</td>\n",
       "      <td>1</td>\n",
       "      <td>0</td>\n",
       "    </tr>\n",
       "    <tr>\n",
       "      <th>...</th>\n",
       "      <td>...</td>\n",
       "      <td>...</td>\n",
       "      <td>...</td>\n",
       "      <td>...</td>\n",
       "      <td>...</td>\n",
       "      <td>...</td>\n",
       "      <td>...</td>\n",
       "      <td>...</td>\n",
       "      <td>...</td>\n",
       "      <td>...</td>\n",
       "      <td>...</td>\n",
       "      <td>...</td>\n",
       "      <td>...</td>\n",
       "      <td>...</td>\n",
       "      <td>...</td>\n",
       "      <td>...</td>\n",
       "      <td>...</td>\n",
       "      <td>...</td>\n",
       "      <td>...</td>\n",
       "      <td>...</td>\n",
       "      <td>...</td>\n",
       "    </tr>\n",
       "    <tr>\n",
       "      <th>6894</th>\n",
       "      <td>42</td>\n",
       "      <td>163</td>\n",
       "      <td>1</td>\n",
       "      <td>-41.8</td>\n",
       "      <td>0</td>\n",
       "      <td>0</td>\n",
       "      <td>0</td>\n",
       "      <td>1</td>\n",
       "      <td>0</td>\n",
       "      <td>0</td>\n",
       "      <td>...</td>\n",
       "      <td>0</td>\n",
       "      <td>0</td>\n",
       "      <td>0</td>\n",
       "      <td>0</td>\n",
       "      <td>1</td>\n",
       "      <td>0</td>\n",
       "      <td>0</td>\n",
       "      <td>0</td>\n",
       "      <td>1</td>\n",
       "      <td>0</td>\n",
       "    </tr>\n",
       "    <tr>\n",
       "      <th>15222</th>\n",
       "      <td>53</td>\n",
       "      <td>64</td>\n",
       "      <td>1</td>\n",
       "      <td>-42.7</td>\n",
       "      <td>1</td>\n",
       "      <td>0</td>\n",
       "      <td>0</td>\n",
       "      <td>0</td>\n",
       "      <td>0</td>\n",
       "      <td>0</td>\n",
       "      <td>...</td>\n",
       "      <td>0</td>\n",
       "      <td>0</td>\n",
       "      <td>0</td>\n",
       "      <td>0</td>\n",
       "      <td>0</td>\n",
       "      <td>0</td>\n",
       "      <td>1</td>\n",
       "      <td>0</td>\n",
       "      <td>1</td>\n",
       "      <td>0</td>\n",
       "    </tr>\n",
       "    <tr>\n",
       "      <th>11437</th>\n",
       "      <td>41</td>\n",
       "      <td>184</td>\n",
       "      <td>1</td>\n",
       "      <td>-42.7</td>\n",
       "      <td>0</td>\n",
       "      <td>0</td>\n",
       "      <td>0</td>\n",
       "      <td>0</td>\n",
       "      <td>0</td>\n",
       "      <td>0</td>\n",
       "      <td>...</td>\n",
       "      <td>0</td>\n",
       "      <td>0</td>\n",
       "      <td>0</td>\n",
       "      <td>0</td>\n",
       "      <td>0</td>\n",
       "      <td>0</td>\n",
       "      <td>0</td>\n",
       "      <td>1</td>\n",
       "      <td>1</td>\n",
       "      <td>0</td>\n",
       "    </tr>\n",
       "    <tr>\n",
       "      <th>8667</th>\n",
       "      <td>31</td>\n",
       "      <td>76</td>\n",
       "      <td>1</td>\n",
       "      <td>-41.8</td>\n",
       "      <td>0</td>\n",
       "      <td>0</td>\n",
       "      <td>0</td>\n",
       "      <td>0</td>\n",
       "      <td>0</td>\n",
       "      <td>0</td>\n",
       "      <td>...</td>\n",
       "      <td>0</td>\n",
       "      <td>0</td>\n",
       "      <td>0</td>\n",
       "      <td>0</td>\n",
       "      <td>0</td>\n",
       "      <td>0</td>\n",
       "      <td>0</td>\n",
       "      <td>1</td>\n",
       "      <td>1</td>\n",
       "      <td>0</td>\n",
       "    </tr>\n",
       "    <tr>\n",
       "      <th>25738</th>\n",
       "      <td>39</td>\n",
       "      <td>141</td>\n",
       "      <td>1</td>\n",
       "      <td>-46.2</td>\n",
       "      <td>0</td>\n",
       "      <td>0</td>\n",
       "      <td>0</td>\n",
       "      <td>1</td>\n",
       "      <td>0</td>\n",
       "      <td>0</td>\n",
       "      <td>...</td>\n",
       "      <td>1</td>\n",
       "      <td>0</td>\n",
       "      <td>0</td>\n",
       "      <td>0</td>\n",
       "      <td>0</td>\n",
       "      <td>1</td>\n",
       "      <td>0</td>\n",
       "      <td>0</td>\n",
       "      <td>1</td>\n",
       "      <td>0</td>\n",
       "    </tr>\n",
       "  </tbody>\n",
       "</table>\n",
       "<p>3036 rows × 47 columns</p>\n",
       "</div>"
      ],
      "text/plain": [
       "       age  duration  campaign  cons.conf.idx  job_blue-collar  \\\n",
       "12724   35        78         4          -42.7                0   \n",
       "6798    36       212         3          -36.4                0   \n",
       "28379   65       579         1          -40.8                0   \n",
       "6813    50        81         2          -36.4                1   \n",
       "4718    31       364         2          -36.4                1   \n",
       "...    ...       ...       ...            ...              ...   \n",
       "6894    42       163         1          -41.8                0   \n",
       "15222   53        64         1          -42.7                1   \n",
       "11437   41       184         1          -42.7                0   \n",
       "8667    31        76         1          -41.8                0   \n",
       "25738   39       141         1          -46.2                0   \n",
       "\n",
       "       job_entrepreneur  job_housemaid  job_management  job_retired  \\\n",
       "12724                 0              0               0            0   \n",
       "6798                  0              0               0            0   \n",
       "28379                 0              0               0            1   \n",
       "6813                  0              0               0            0   \n",
       "4718                  0              0               0            0   \n",
       "...                 ...            ...             ...          ...   \n",
       "6894                  0              0               1            0   \n",
       "15222                 0              0               0            0   \n",
       "11437                 0              0               0            0   \n",
       "8667                  0              0               0            0   \n",
       "25738                 0              0               1            0   \n",
       "\n",
       "       job_self-employed  ...  month_may  month_nov  month_oct  month_sep  \\\n",
       "12724                  0  ...          0          0          0          0   \n",
       "6798                   1  ...          1          0          0          0   \n",
       "28379                  0  ...          0          0          0          0   \n",
       "6813                   0  ...          1          0          0          0   \n",
       "4718                   0  ...          1          0          0          0   \n",
       "...                  ...  ...        ...        ...        ...        ...   \n",
       "6894                   0  ...          0          0          0          0   \n",
       "15222                  0  ...          0          0          0          0   \n",
       "11437                  0  ...          0          0          0          0   \n",
       "8667                   0  ...          0          0          0          0   \n",
       "25738                  0  ...          1          0          0          0   \n",
       "\n",
       "       day_of_week_mon  day_of_week_thu  day_of_week_tue  day_of_week_wed  \\\n",
       "12724                0                0                1                0   \n",
       "6798                 0                0                0                0   \n",
       "28379                1                0                0                0   \n",
       "6813                 0                0                0                0   \n",
       "4718                 0                0                0                0   \n",
       "...                ...              ...              ...              ...   \n",
       "6894                 1                0                0                0   \n",
       "15222                0                0                1                0   \n",
       "11437                0                0                0                1   \n",
       "8667                 0                0                0                1   \n",
       "25738                0                1                0                0   \n",
       "\n",
       "       poutcome_nonexistent  poutcome_success  \n",
       "12724                     1                 0  \n",
       "6798                      1                 0  \n",
       "28379                     1                 0  \n",
       "6813                      1                 0  \n",
       "4718                      1                 0  \n",
       "...                     ...               ...  \n",
       "6894                      1                 0  \n",
       "15222                     1                 0  \n",
       "11437                     1                 0  \n",
       "8667                      1                 0  \n",
       "25738                     1                 0  \n",
       "\n",
       "[3036 rows x 47 columns]"
      ]
     },
     "execution_count": 31,
     "metadata": {},
     "output_type": "execute_result"
    }
   ],
   "source": [
    "X_valid"
   ]
  },
  {
   "cell_type": "code",
   "execution_count": 32,
   "id": "58c7b1d7",
   "metadata": {},
   "outputs": [
    {
     "data": {
      "text/plain": [
       "12724    0\n",
       "6798     0\n",
       "28379    1\n",
       "6813     0\n",
       "4718     0\n",
       "        ..\n",
       "6894     0\n",
       "15222    0\n",
       "11437    0\n",
       "8667     0\n",
       "25738    0\n",
       "Name: y, Length: 3036, dtype: int64"
      ]
     },
     "execution_count": 32,
     "metadata": {},
     "output_type": "execute_result"
    }
   ],
   "source": [
    "y_valid"
   ]
  },
  {
   "cell_type": "code",
   "execution_count": 33,
   "id": "84f2033b",
   "metadata": {},
   "outputs": [
    {
     "data": {
      "text/html": [
       "<div>\n",
       "<style scoped>\n",
       "    .dataframe tbody tr th:only-of-type {\n",
       "        vertical-align: middle;\n",
       "    }\n",
       "\n",
       "    .dataframe tbody tr th {\n",
       "        vertical-align: top;\n",
       "    }\n",
       "\n",
       "    .dataframe thead th {\n",
       "        text-align: right;\n",
       "    }\n",
       "</style>\n",
       "<table border=\"1\" class=\"dataframe\">\n",
       "  <thead>\n",
       "    <tr style=\"text-align: right;\">\n",
       "      <th></th>\n",
       "      <th>age</th>\n",
       "      <th>duration</th>\n",
       "      <th>campaign</th>\n",
       "      <th>cons.conf.idx</th>\n",
       "      <th>job_blue-collar</th>\n",
       "      <th>job_entrepreneur</th>\n",
       "      <th>job_housemaid</th>\n",
       "      <th>job_management</th>\n",
       "      <th>job_retired</th>\n",
       "      <th>job_self-employed</th>\n",
       "      <th>...</th>\n",
       "      <th>month_may</th>\n",
       "      <th>month_nov</th>\n",
       "      <th>month_oct</th>\n",
       "      <th>month_sep</th>\n",
       "      <th>day_of_week_mon</th>\n",
       "      <th>day_of_week_thu</th>\n",
       "      <th>day_of_week_tue</th>\n",
       "      <th>day_of_week_wed</th>\n",
       "      <th>poutcome_nonexistent</th>\n",
       "      <th>poutcome_success</th>\n",
       "    </tr>\n",
       "  </thead>\n",
       "  <tbody>\n",
       "    <tr>\n",
       "      <th>15863</th>\n",
       "      <td>38</td>\n",
       "      <td>169</td>\n",
       "      <td>5</td>\n",
       "      <td>-42.7</td>\n",
       "      <td>0</td>\n",
       "      <td>0</td>\n",
       "      <td>0</td>\n",
       "      <td>0</td>\n",
       "      <td>0</td>\n",
       "      <td>0</td>\n",
       "      <td>...</td>\n",
       "      <td>0</td>\n",
       "      <td>0</td>\n",
       "      <td>0</td>\n",
       "      <td>0</td>\n",
       "      <td>0</td>\n",
       "      <td>1</td>\n",
       "      <td>0</td>\n",
       "      <td>0</td>\n",
       "      <td>1</td>\n",
       "      <td>0</td>\n",
       "    </tr>\n",
       "    <tr>\n",
       "      <th>12249</th>\n",
       "      <td>31</td>\n",
       "      <td>211</td>\n",
       "      <td>3</td>\n",
       "      <td>-42.7</td>\n",
       "      <td>0</td>\n",
       "      <td>0</td>\n",
       "      <td>0</td>\n",
       "      <td>0</td>\n",
       "      <td>0</td>\n",
       "      <td>0</td>\n",
       "      <td>...</td>\n",
       "      <td>0</td>\n",
       "      <td>0</td>\n",
       "      <td>0</td>\n",
       "      <td>0</td>\n",
       "      <td>1</td>\n",
       "      <td>0</td>\n",
       "      <td>0</td>\n",
       "      <td>0</td>\n",
       "      <td>1</td>\n",
       "      <td>0</td>\n",
       "    </tr>\n",
       "    <tr>\n",
       "      <th>17334</th>\n",
       "      <td>29</td>\n",
       "      <td>133</td>\n",
       "      <td>5</td>\n",
       "      <td>-36.1</td>\n",
       "      <td>0</td>\n",
       "      <td>0</td>\n",
       "      <td>0</td>\n",
       "      <td>0</td>\n",
       "      <td>0</td>\n",
       "      <td>0</td>\n",
       "      <td>...</td>\n",
       "      <td>0</td>\n",
       "      <td>0</td>\n",
       "      <td>0</td>\n",
       "      <td>0</td>\n",
       "      <td>1</td>\n",
       "      <td>0</td>\n",
       "      <td>0</td>\n",
       "      <td>0</td>\n",
       "      <td>1</td>\n",
       "      <td>0</td>\n",
       "    </tr>\n",
       "    <tr>\n",
       "      <th>17071</th>\n",
       "      <td>39</td>\n",
       "      <td>108</td>\n",
       "      <td>4</td>\n",
       "      <td>-36.1</td>\n",
       "      <td>0</td>\n",
       "      <td>0</td>\n",
       "      <td>0</td>\n",
       "      <td>0</td>\n",
       "      <td>0</td>\n",
       "      <td>0</td>\n",
       "      <td>...</td>\n",
       "      <td>0</td>\n",
       "      <td>0</td>\n",
       "      <td>0</td>\n",
       "      <td>0</td>\n",
       "      <td>0</td>\n",
       "      <td>0</td>\n",
       "      <td>0</td>\n",
       "      <td>0</td>\n",
       "      <td>1</td>\n",
       "      <td>0</td>\n",
       "    </tr>\n",
       "    <tr>\n",
       "      <th>22190</th>\n",
       "      <td>49</td>\n",
       "      <td>91</td>\n",
       "      <td>1</td>\n",
       "      <td>-42.0</td>\n",
       "      <td>0</td>\n",
       "      <td>0</td>\n",
       "      <td>0</td>\n",
       "      <td>0</td>\n",
       "      <td>0</td>\n",
       "      <td>0</td>\n",
       "      <td>...</td>\n",
       "      <td>0</td>\n",
       "      <td>1</td>\n",
       "      <td>0</td>\n",
       "      <td>0</td>\n",
       "      <td>0</td>\n",
       "      <td>1</td>\n",
       "      <td>0</td>\n",
       "      <td>0</td>\n",
       "      <td>1</td>\n",
       "      <td>0</td>\n",
       "    </tr>\n",
       "  </tbody>\n",
       "</table>\n",
       "<p>5 rows × 47 columns</p>\n",
       "</div>"
      ],
      "text/plain": [
       "       age  duration  campaign  cons.conf.idx  job_blue-collar  \\\n",
       "15863   38       169         5          -42.7                0   \n",
       "12249   31       211         3          -42.7                0   \n",
       "17334   29       133         5          -36.1                0   \n",
       "17071   39       108         4          -36.1                0   \n",
       "22190   49        91         1          -42.0                0   \n",
       "\n",
       "       job_entrepreneur  job_housemaid  job_management  job_retired  \\\n",
       "15863                 0              0               0            0   \n",
       "12249                 0              0               0            0   \n",
       "17334                 0              0               0            0   \n",
       "17071                 0              0               0            0   \n",
       "22190                 0              0               0            0   \n",
       "\n",
       "       job_self-employed  ...  month_may  month_nov  month_oct  month_sep  \\\n",
       "15863                  0  ...          0          0          0          0   \n",
       "12249                  0  ...          0          0          0          0   \n",
       "17334                  0  ...          0          0          0          0   \n",
       "17071                  0  ...          0          0          0          0   \n",
       "22190                  0  ...          0          1          0          0   \n",
       "\n",
       "       day_of_week_mon  day_of_week_thu  day_of_week_tue  day_of_week_wed  \\\n",
       "15863                0                1                0                0   \n",
       "12249                1                0                0                0   \n",
       "17334                1                0                0                0   \n",
       "17071                0                0                0                0   \n",
       "22190                0                1                0                0   \n",
       "\n",
       "       poutcome_nonexistent  poutcome_success  \n",
       "15863                     1                 0  \n",
       "12249                     1                 0  \n",
       "17334                     1                 0  \n",
       "17071                     1                 0  \n",
       "22190                     1                 0  \n",
       "\n",
       "[5 rows x 47 columns]"
      ]
     },
     "execution_count": 33,
     "metadata": {},
     "output_type": "execute_result"
    }
   ],
   "source": [
    "X_test.head()"
   ]
  },
  {
   "cell_type": "code",
   "execution_count": 34,
   "id": "ba00b9aa",
   "metadata": {},
   "outputs": [
    {
     "data": {
      "text/plain": [
       "15863    0\n",
       "12249    0\n",
       "17334    0\n",
       "17071    0\n",
       "22190    0\n",
       "        ..\n",
       "8249     0\n",
       "13685    0\n",
       "4734     0\n",
       "238      0\n",
       "142      0\n",
       "Name: y, Length: 3036, dtype: int64"
      ]
     },
     "execution_count": 34,
     "metadata": {},
     "output_type": "execute_result"
    }
   ],
   "source": [
    "y_test"
   ]
  },
  {
   "cell_type": "markdown",
   "id": "20e2b5c9",
   "metadata": {},
   "source": [
    "## Handling imbalanced output"
   ]
  },
  {
   "cell_type": "code",
   "execution_count": 35,
   "id": "af6a5f3b",
   "metadata": {},
   "outputs": [],
   "source": [
    "from imblearn.over_sampling import SMOTE\n",
    "# Apply SMOTE to oversample the minority class\n",
    "smote = SMOTE(random_state=42)\n",
    "X_train, y_train = smote.fit_resample(X_train, y_train)"
   ]
  },
  {
   "cell_type": "code",
   "execution_count": 36,
   "id": "4a6c135c",
   "metadata": {},
   "outputs": [
    {
     "data": {
      "text/plain": [
       "(45910, 47)"
      ]
     },
     "execution_count": 36,
     "metadata": {},
     "output_type": "execute_result"
    }
   ],
   "source": [
    "X_train.shape"
   ]
  },
  {
   "cell_type": "code",
   "execution_count": 37,
   "id": "d4476b89",
   "metadata": {},
   "outputs": [
    {
     "data": {
      "text/plain": [
       "(45910,)"
      ]
     },
     "execution_count": 37,
     "metadata": {},
     "output_type": "execute_result"
    }
   ],
   "source": [
    "y_train.shape"
   ]
  },
  {
   "cell_type": "code",
   "execution_count": 38,
   "id": "2503eede",
   "metadata": {},
   "outputs": [
    {
     "data": {
      "text/plain": [
       "y\n",
       "0    22955\n",
       "1    22955\n",
       "Name: count, dtype: int64"
      ]
     },
     "execution_count": 38,
     "metadata": {},
     "output_type": "execute_result"
    }
   ],
   "source": [
    "y_train.value_counts()"
   ]
  },
  {
   "cell_type": "markdown",
   "id": "ecff9aff",
   "metadata": {
    "colab_type": "text",
    "id": "kW3c7UYih0hT"
   },
   "source": [
    "## Feature Scaling"
   ]
  },
  {
   "cell_type": "code",
   "execution_count": 39,
   "id": "8c88a952",
   "metadata": {
    "colab": {},
    "colab_type": "code",
    "id": "9fQlDPKCh8sc"
   },
   "outputs": [
    {
     "data": {
      "text/html": [
       "<div>\n",
       "<style scoped>\n",
       "    .dataframe tbody tr th:only-of-type {\n",
       "        vertical-align: middle;\n",
       "    }\n",
       "\n",
       "    .dataframe tbody tr th {\n",
       "        vertical-align: top;\n",
       "    }\n",
       "\n",
       "    .dataframe thead th {\n",
       "        text-align: right;\n",
       "    }\n",
       "</style>\n",
       "<table border=\"1\" class=\"dataframe\">\n",
       "  <thead>\n",
       "    <tr style=\"text-align: right;\">\n",
       "      <th></th>\n",
       "      <th>age</th>\n",
       "      <th>duration</th>\n",
       "      <th>campaign</th>\n",
       "      <th>cons.conf.idx</th>\n",
       "      <th>job_blue-collar</th>\n",
       "      <th>job_entrepreneur</th>\n",
       "      <th>job_housemaid</th>\n",
       "      <th>job_management</th>\n",
       "      <th>job_retired</th>\n",
       "      <th>job_self-employed</th>\n",
       "      <th>...</th>\n",
       "      <th>month_may</th>\n",
       "      <th>month_nov</th>\n",
       "      <th>month_oct</th>\n",
       "      <th>month_sep</th>\n",
       "      <th>day_of_week_mon</th>\n",
       "      <th>day_of_week_thu</th>\n",
       "      <th>day_of_week_tue</th>\n",
       "      <th>day_of_week_wed</th>\n",
       "      <th>poutcome_nonexistent</th>\n",
       "      <th>poutcome_success</th>\n",
       "    </tr>\n",
       "  </thead>\n",
       "  <tbody>\n",
       "    <tr>\n",
       "      <th>0</th>\n",
       "      <td>-0.783377</td>\n",
       "      <td>-1.072651</td>\n",
       "      <td>0.153707</td>\n",
       "      <td>-0.424406</td>\n",
       "      <td>0</td>\n",
       "      <td>1</td>\n",
       "      <td>0</td>\n",
       "      <td>0</td>\n",
       "      <td>0</td>\n",
       "      <td>0</td>\n",
       "      <td>...</td>\n",
       "      <td>0</td>\n",
       "      <td>0</td>\n",
       "      <td>0</td>\n",
       "      <td>0</td>\n",
       "      <td>1</td>\n",
       "      <td>0</td>\n",
       "      <td>0</td>\n",
       "      <td>0</td>\n",
       "      <td>1</td>\n",
       "      <td>0</td>\n",
       "    </tr>\n",
       "    <tr>\n",
       "      <th>1</th>\n",
       "      <td>0.394331</td>\n",
       "      <td>-1.167525</td>\n",
       "      <td>1.026412</td>\n",
       "      <td>-0.424406</td>\n",
       "      <td>0</td>\n",
       "      <td>0</td>\n",
       "      <td>0</td>\n",
       "      <td>0</td>\n",
       "      <td>0</td>\n",
       "      <td>0</td>\n",
       "      <td>...</td>\n",
       "      <td>0</td>\n",
       "      <td>0</td>\n",
       "      <td>0</td>\n",
       "      <td>0</td>\n",
       "      <td>1</td>\n",
       "      <td>0</td>\n",
       "      <td>0</td>\n",
       "      <td>0</td>\n",
       "      <td>1</td>\n",
       "      <td>0</td>\n",
       "    </tr>\n",
       "    <tr>\n",
       "      <th>2</th>\n",
       "      <td>-0.390808</td>\n",
       "      <td>-1.090440</td>\n",
       "      <td>-0.718998</td>\n",
       "      <td>-0.279872</td>\n",
       "      <td>0</td>\n",
       "      <td>0</td>\n",
       "      <td>0</td>\n",
       "      <td>0</td>\n",
       "      <td>0</td>\n",
       "      <td>0</td>\n",
       "      <td>...</td>\n",
       "      <td>0</td>\n",
       "      <td>1</td>\n",
       "      <td>0</td>\n",
       "      <td>0</td>\n",
       "      <td>0</td>\n",
       "      <td>0</td>\n",
       "      <td>0</td>\n",
       "      <td>1</td>\n",
       "      <td>1</td>\n",
       "      <td>0</td>\n",
       "    </tr>\n",
       "    <tr>\n",
       "      <th>3</th>\n",
       "      <td>-0.390808</td>\n",
       "      <td>-0.491546</td>\n",
       "      <td>-0.718998</td>\n",
       "      <td>-1.147077</td>\n",
       "      <td>1</td>\n",
       "      <td>0</td>\n",
       "      <td>0</td>\n",
       "      <td>0</td>\n",
       "      <td>0</td>\n",
       "      <td>0</td>\n",
       "      <td>...</td>\n",
       "      <td>1</td>\n",
       "      <td>0</td>\n",
       "      <td>0</td>\n",
       "      <td>0</td>\n",
       "      <td>0</td>\n",
       "      <td>1</td>\n",
       "      <td>0</td>\n",
       "      <td>0</td>\n",
       "      <td>1</td>\n",
       "      <td>0</td>\n",
       "    </tr>\n",
       "    <tr>\n",
       "      <th>4</th>\n",
       "      <td>0.001761</td>\n",
       "      <td>-0.788028</td>\n",
       "      <td>0.153707</td>\n",
       "      <td>0.938345</td>\n",
       "      <td>0</td>\n",
       "      <td>0</td>\n",
       "      <td>0</td>\n",
       "      <td>0</td>\n",
       "      <td>0</td>\n",
       "      <td>0</td>\n",
       "      <td>...</td>\n",
       "      <td>0</td>\n",
       "      <td>0</td>\n",
       "      <td>0</td>\n",
       "      <td>0</td>\n",
       "      <td>0</td>\n",
       "      <td>0</td>\n",
       "      <td>0</td>\n",
       "      <td>1</td>\n",
       "      <td>1</td>\n",
       "      <td>0</td>\n",
       "    </tr>\n",
       "  </tbody>\n",
       "</table>\n",
       "<p>5 rows × 47 columns</p>\n",
       "</div>"
      ],
      "text/plain": [
       "        age  duration  campaign  cons.conf.idx  job_blue-collar  \\\n",
       "0 -0.783377 -1.072651  0.153707      -0.424406                0   \n",
       "1  0.394331 -1.167525  1.026412      -0.424406                0   \n",
       "2 -0.390808 -1.090440 -0.718998      -0.279872                0   \n",
       "3 -0.390808 -0.491546 -0.718998      -1.147077                1   \n",
       "4  0.001761 -0.788028  0.153707       0.938345                0   \n",
       "\n",
       "   job_entrepreneur  job_housemaid  job_management  job_retired  \\\n",
       "0                 1              0               0            0   \n",
       "1                 0              0               0            0   \n",
       "2                 0              0               0            0   \n",
       "3                 0              0               0            0   \n",
       "4                 0              0               0            0   \n",
       "\n",
       "   job_self-employed  ...  month_may  month_nov  month_oct  month_sep  \\\n",
       "0                  0  ...          0          0          0          0   \n",
       "1                  0  ...          0          0          0          0   \n",
       "2                  0  ...          0          1          0          0   \n",
       "3                  0  ...          1          0          0          0   \n",
       "4                  0  ...          0          0          0          0   \n",
       "\n",
       "   day_of_week_mon  day_of_week_thu  day_of_week_tue  day_of_week_wed  \\\n",
       "0                1                0                0                0   \n",
       "1                1                0                0                0   \n",
       "2                0                0                0                1   \n",
       "3                0                1                0                0   \n",
       "4                0                0                0                1   \n",
       "\n",
       "   poutcome_nonexistent  poutcome_success  \n",
       "0                     1                 0  \n",
       "1                     1                 0  \n",
       "2                     1                 0  \n",
       "3                     1                 0  \n",
       "4                     1                 0  \n",
       "\n",
       "[5 rows x 47 columns]"
      ]
     },
     "execution_count": 39,
     "metadata": {},
     "output_type": "execute_result"
    }
   ],
   "source": [
    "from sklearn.preprocessing import StandardScaler\n",
    "columns_to_scale = X.columns[:4]\n",
    "sc = StandardScaler()\n",
    "X_train[columns_to_scale] = sc.fit_transform(X_train[columns_to_scale])\n",
    "X_test[columns_to_scale] = sc.transform(X_test[columns_to_scale])\n",
    "X_train.head()"
   ]
  },
  {
   "cell_type": "markdown",
   "id": "ad70d796",
   "metadata": {
    "colab_type": "text",
    "id": "-zfEzkRVXIwF"
   },
   "source": [
    "## Part 2 - Building the ANN"
   ]
  },
  {
   "cell_type": "markdown",
   "id": "1a399601",
   "metadata": {
    "colab_type": "text",
    "id": "KvdeScabXtlB"
   },
   "source": [
    "### Initializing the ANN"
   ]
  },
  {
   "cell_type": "code",
   "execution_count": 44,
   "id": "4de9f1ff",
   "metadata": {
    "colab": {},
    "colab_type": "code",
    "id": "3dtrScHxXQox"
   },
   "outputs": [],
   "source": [
    "ann = tf.keras.Sequential([\n",
    "    tf.keras.layers.Dense(units=200, activation='relu'), # Adding the input layer and the first hidden layer\n",
    "    tf.keras.layers.Dense(units=200, activation='relu'), # Adding the second hidden layer\n",
    "    tf.keras.layers.Dense(units=200, activation='relu'), # Adding the third hidden layer\n",
    "    tf.keras.layers.Dense(units=1, activation='sigmoid') # Adding the output layer\n",
    "])"
   ]
  },
  {
   "cell_type": "markdown",
   "id": "5072fb2d",
   "metadata": {
    "colab_type": "text",
    "id": "JT4u2S1_Y4WG"
   },
   "source": [
    "## Part 3 - Training the ANN"
   ]
  },
  {
   "cell_type": "markdown",
   "id": "2dae150f",
   "metadata": {
    "colab_type": "text",
    "id": "8GWlJChhY_ZI"
   },
   "source": [
    "### Compiling the ANN"
   ]
  },
  {
   "cell_type": "code",
   "execution_count": 45,
   "id": "48444c3b",
   "metadata": {
    "colab": {},
    "colab_type": "code",
    "id": "fG3RrwDXZEaS"
   },
   "outputs": [],
   "source": [
    "ann.compile(optimizer='adam', loss='binary_crossentropy', metrics=['accuracy'])"
   ]
  },
  {
   "cell_type": "code",
   "execution_count": 42,
   "id": "74cc54ec",
   "metadata": {},
   "outputs": [],
   "source": [
    "# np.concatenate((y_train_categorical, y_train.to_numpy().reshape(len(y_train), 1)),1)"
   ]
  },
  {
   "cell_type": "markdown",
   "id": "6dc5930f",
   "metadata": {
    "colab_type": "text",
    "id": "0QR_G5u7ZLSM"
   },
   "source": [
    "### Training the ANN on the Training set"
   ]
  },
  {
   "cell_type": "code",
   "execution_count": 46,
   "id": "ba726f24",
   "metadata": {
    "colab": {
     "base_uri": "https://localhost:8080/",
     "height": 1000
    },
    "colab_type": "code",
    "id": "nHZ-LKv_ZRb3",
    "outputId": "718cc4b0-b5aa-40f0-9b20-d3d31730a531",
    "scrolled": true
   },
   "outputs": [
    {
     "name": "stdout",
     "output_type": "stream",
     "text": [
      "Epoch 1/100\n",
      "460/460 - 4s - loss: 0.1348 - accuracy: 0.9493 - val_loss: 143.3513 - val_accuracy: 0.0547 - 4s/epoch - 9ms/step\n",
      "Epoch 2/100\n",
      "460/460 - 2s - loss: 0.0956 - accuracy: 0.9643 - val_loss: 124.4204 - val_accuracy: 0.0547 - 2s/epoch - 5ms/step\n",
      "Epoch 3/100\n",
      "460/460 - 2s - loss: 0.0863 - accuracy: 0.9668 - val_loss: 131.9373 - val_accuracy: 0.0547 - 2s/epoch - 5ms/step\n",
      "Epoch 4/100\n",
      "460/460 - 2s - loss: 0.0801 - accuracy: 0.9685 - val_loss: 264.7844 - val_accuracy: 0.0547 - 2s/epoch - 5ms/step\n",
      "Epoch 5/100\n",
      "460/460 - 2s - loss: 0.0742 - accuracy: 0.9711 - val_loss: 126.3071 - val_accuracy: 0.0547 - 2s/epoch - 5ms/step\n",
      "Epoch 6/100\n",
      "460/460 - 2s - loss: 0.0693 - accuracy: 0.9726 - val_loss: 78.1317 - val_accuracy: 0.1110 - 2s/epoch - 5ms/step\n",
      "Epoch 7/100\n",
      "460/460 - 2s - loss: 0.0633 - accuracy: 0.9746 - val_loss: 49.9943 - val_accuracy: 0.5152 - 2s/epoch - 5ms/step\n",
      "Epoch 8/100\n",
      "460/460 - 2s - loss: 0.0604 - accuracy: 0.9761 - val_loss: 33.5880 - val_accuracy: 0.5240 - 2s/epoch - 5ms/step\n",
      "Epoch 9/100\n",
      "460/460 - 2s - loss: 0.0566 - accuracy: 0.9775 - val_loss: 30.4130 - val_accuracy: 0.6522 - 2s/epoch - 5ms/step\n",
      "Epoch 10/100\n",
      "460/460 - 2s - loss: 0.0517 - accuracy: 0.9797 - val_loss: 159.4659 - val_accuracy: 0.3126 - 2s/epoch - 5ms/step\n",
      "Epoch 11/100\n",
      "460/460 - 2s - loss: 0.0494 - accuracy: 0.9804 - val_loss: 85.2649 - val_accuracy: 0.4585 - 2s/epoch - 5ms/step\n",
      "Epoch 12/100\n",
      "460/460 - 2s - loss: 0.0443 - accuracy: 0.9827 - val_loss: 107.4202 - val_accuracy: 0.5240 - 2s/epoch - 5ms/step\n",
      "Epoch 13/100\n",
      "460/460 - 2s - loss: 0.0401 - accuracy: 0.9840 - val_loss: 141.8706 - val_accuracy: 0.4539 - 2s/epoch - 5ms/step\n",
      "Epoch 14/100\n",
      "460/460 - 2s - loss: 0.0357 - accuracy: 0.9860 - val_loss: 40.0357 - val_accuracy: 0.6947 - 2s/epoch - 5ms/step\n",
      "Epoch 15/100\n",
      "460/460 - 2s - loss: 0.0331 - accuracy: 0.9872 - val_loss: 142.1055 - val_accuracy: 0.4549 - 2s/epoch - 5ms/step\n",
      "Epoch 16/100\n",
      "460/460 - 2s - loss: 0.0320 - accuracy: 0.9874 - val_loss: 98.4557 - val_accuracy: 0.5145 - 2s/epoch - 5ms/step\n",
      "Epoch 17/100\n",
      "460/460 - 2s - loss: 0.0277 - accuracy: 0.9892 - val_loss: 149.8514 - val_accuracy: 0.5132 - 2s/epoch - 5ms/step\n",
      "Epoch 18/100\n",
      "460/460 - 2s - loss: 0.0258 - accuracy: 0.9903 - val_loss: 413.1140 - val_accuracy: 0.2701 - 2s/epoch - 5ms/step\n",
      "Epoch 19/100\n",
      "460/460 - 2s - loss: 0.0218 - accuracy: 0.9917 - val_loss: 135.8912 - val_accuracy: 0.5382 - 2s/epoch - 5ms/step\n",
      "Epoch 20/100\n",
      "460/460 - 2s - loss: 0.0217 - accuracy: 0.9915 - val_loss: 204.6026 - val_accuracy: 0.5336 - 2s/epoch - 5ms/step\n",
      "Epoch 21/100\n",
      "460/460 - 2s - loss: 0.0203 - accuracy: 0.9927 - val_loss: 362.4204 - val_accuracy: 0.3488 - 2s/epoch - 5ms/step\n",
      "Epoch 22/100\n",
      "460/460 - 2s - loss: 0.0186 - accuracy: 0.9934 - val_loss: 256.8811 - val_accuracy: 0.5208 - 2s/epoch - 5ms/step\n"
     ]
    },
    {
     "data": {
      "text/plain": [
       "<keras.callbacks.History at 0x1c32d2a7280>"
      ]
     },
     "execution_count": 46,
     "metadata": {},
     "output_type": "execute_result"
    }
   ],
   "source": [
    "# set the batch size\n",
    "batch_size = 100\n",
    "\n",
    "# set a maximum number of training epochs\n",
    "max_epochs = 100\n",
    "\n",
    "# set an early stopping mechanism\n",
    "# let's set patience=2, to be a bit tolerant against random validation loss increases\n",
    "early_stopping = tf.keras.callbacks.EarlyStopping(patience=13)\n",
    "\n",
    "# fit the model\n",
    "# note that this time the train, validation and test data are not iterable\n",
    "ann.fit(X_train, # train inputs\n",
    "      y_train, # train targets\n",
    "      batch_size=batch_size, # batch size\n",
    "      epochs=max_epochs, # epochs that we will train for (assuming early stopping doesn't kick in)\n",
    "      # callbacks are functions called by a task when a task is completed\n",
    "      # task here is to check if val_loss is increasing\n",
    "      callbacks=[early_stopping], # early stopping\n",
    "      validation_data=(X_valid, y_valid), # validation data\n",
    "      verbose = 2 # making sure we get enough information about the training process\n",
    "      )  "
   ]
  },
  {
   "cell_type": "markdown",
   "id": "6f89d041",
   "metadata": {
    "colab_type": "text",
    "id": "u7yx47jPZt11"
   },
   "source": [
    "### Predicting the Test set results"
   ]
  },
  {
   "cell_type": "code",
   "execution_count": 48,
   "id": "30fbbd63",
   "metadata": {
    "colab": {
     "base_uri": "https://localhost:8080/",
     "height": 137
    },
    "colab_type": "code",
    "id": "nIyEeQdRZwgs",
    "outputId": "82330ba8-9bdc-4fd1-d3cf-b6d78ee7c2a3"
   },
   "outputs": [
    {
     "name": "stdout",
     "output_type": "stream",
     "text": [
      "95/95 [==============================] - 0s 3ms/step\n",
      "[[0 0]\n",
      " [0 0]\n",
      " [0 0]\n",
      " ...\n",
      " [0 0]\n",
      " [0 0]\n",
      " [0 0]]\n"
     ]
    }
   ],
   "source": [
    "y_prob = ann.predict(X_test)\n",
    "y_pred = (y_prob > 0.5)\n",
    "# Convert pandas Series to numpy arrays before reshaping\n",
    "y_pred_reshaped = y_pred.reshape(len(y_pred), 1)\n",
    "y_test_reshaped = y_test.to_numpy().reshape(len(y_test), 1)\n",
    "\n",
    "print(np.concatenate((y_pred_reshaped, y_test_reshaped),1))"
   ]
  },
  {
   "cell_type": "markdown",
   "id": "e4b10717",
   "metadata": {
    "colab_type": "text",
    "id": "o0oyfLWoaEGw"
   },
   "source": [
    "### Making the Confusion Matrix"
   ]
  },
  {
   "cell_type": "code",
   "execution_count": null,
   "id": "c1fea97c",
   "metadata": {
    "colab": {
     "base_uri": "https://localhost:8080/",
     "height": 68
    },
    "colab_type": "code",
    "id": "ci6K_r6LaF6P",
    "outputId": "4d854e9e-22d5-432f-f6e5-a102fe3ae0bd"
   },
   "outputs": [],
   "source": [
    "from sklearn.metrics import confusion_matrix, accuracy_score\n",
    "cm = confusion_matrix(y_test, y_pred)\n",
    "print(cm)\n",
    "round(accuracy_score(y_test, y_pred), 3)"
   ]
  },
  {
   "cell_type": "markdown",
   "id": "9d942258",
   "metadata": {},
   "source": [
    "### Find threshold based on Validation dataset"
   ]
  },
  {
   "cell_type": "code",
   "execution_count": 52,
   "id": "c4a8c396",
   "metadata": {},
   "outputs": [
    {
     "name": "stdout",
     "output_type": "stream",
     "text": [
      "95/95 [==============================] - 0s 2ms/step\n",
      "accuracy 0.9091\n",
      "recall: 0.0181\n",
      "precision: 0.0259\n",
      "f1-score: 0.0213\n"
     ]
    }
   ],
   "source": [
    "from sklearn.metrics import confusion_matrix, accuracy_score, recall_score,precision_score,f1_score\n",
    "from sklearn.metrics import roc_curve, auc\n",
    "y_valid_prob = ann.predict(X_test)\n",
    "y_valid_pred = (y_valid_prob>0.5).astype(int)\n",
    "print(f\"accuracy {accuracy_score(y_valid, y_valid_pred):.4f}\")\n",
    "print(f'recall: {recall_score(y_valid, y_valid_pred):.4f}')\n",
    "print(f'precision: {precision_score(y_valid, y_valid_pred):.4f}')\n",
    "print(f'f1-score: {f1_score(y_valid, y_valid_pred):.4f}')"
   ]
  },
  {
   "cell_type": "code",
   "execution_count": 153,
   "id": "1f4651c3",
   "metadata": {},
   "outputs": [
    {
     "name": "stdout",
     "output_type": "stream",
     "text": [
      "Best Threshold: 0.02\n",
      "With threshold 0.0200 from validation data:\n",
      "accuracy 0.8538\n",
      "recall: 0.0663\n",
      "precision: 0.0367\n",
      "f1-score: 0.0472\n"
     ]
    }
   ],
   "source": [
    "fpr, tpr, thresholds = roc_curve(y_valid, y_valid_prob)\n",
    "# Find the threshold that maximizes the Youden's J statistic (sensitivity + specificity - 1)\n",
    "Youden_J = tpr - fpr\n",
    "# Avoid division by zero by setting Youden_J to zero where fpr is zero\n",
    "Youden_J_without_inf = np.where(fpr == 0, 0, Youden_J)\n",
    "\n",
    "best_threshold_index = np.argmax(Youden_J_without_inf)\n",
    "best_threshold = thresholds[best_threshold_index]\n",
    "if best_threshold>=1:\n",
    "    best_threshold = 1\n",
    "elif best_threshold<0.02:\n",
    "    best_threshold =0.02\n",
    "print(f\"Best Threshold: {best_threshold}\")\n",
    "# Convert probabilities to binary predictions based on the threshold\n",
    "y_valid_pred = (y_valid_prob > best_threshold).astype(int)\n",
    "\n",
    "# Evaluate the model performance\n",
    "print(f'With threshold {best_threshold:.4f} from validation data:')\n",
    "print(f\"accuracy {accuracy_score(y_valid, y_valid_pred):.4f}\")\n",
    "print(f'recall: {recall_score(y_valid, y_valid_pred):.4f}')\n",
    "print(f'precision: {precision_score(y_valid, y_valid_pred):.4f}')\n",
    "print(f'f1-score: {f1_score(y_valid, y_valid_pred):.4f}')"
   ]
  },
  {
   "cell_type": "markdown",
   "id": "ed72297f",
   "metadata": {
    "colab_type": "text",
    "id": "tJj5k2MxZga3"
   },
   "source": [
    "## Part 5 - Making the predictions and evaluating the model"
   ]
  },
  {
   "cell_type": "markdown",
   "id": "b40e1189",
   "metadata": {
    "colab_type": "text",
    "id": "84QFoqGYeXHL"
   },
   "source": [
    "### Predicting the result of a single observation"
   ]
  },
  {
   "cell_type": "markdown",
   "id": "6dfb2072",
   "metadata": {
    "colab_type": "text",
    "id": "u7yx47jPZt11"
   },
   "source": [
    "### Predicting the Test set results"
   ]
  },
  {
   "cell_type": "code",
   "execution_count": 54,
   "id": "cbf0942e",
   "metadata": {},
   "outputs": [
    {
     "name": "stdout",
     "output_type": "stream",
     "text": [
      "95/95 [==============================] - 0s 3ms/step\n"
     ]
    }
   ],
   "source": [
    "y_prob = ann.predict(X_test)\n",
    "y_pred = (y_prob>0.5).astype(int)"
   ]
  },
  {
   "cell_type": "markdown",
   "id": "a7b414e9",
   "metadata": {
    "colab_type": "text",
    "id": "h4Hwj34ziWQW"
   },
   "source": [
    "### Model Evaluation Metrics on test set"
   ]
  },
  {
   "cell_type": "code",
   "execution_count": 55,
   "id": "c1ef5cab",
   "metadata": {
    "colab": {
     "base_uri": "https://localhost:8080/",
     "height": 68
    },
    "colab_type": "code",
    "executionInfo": {
     "elapsed": 1898,
     "status": "ok",
     "timestamp": 1588269343985,
     "user": {
      "displayName": "Hadelin de Ponteves",
      "photoUrl": "https://lh3.googleusercontent.com/a-/AOh14GhEuXdT7eQweUmRPW8_laJuPggSK6hfvpl5a6WBaA=s64",
      "userId": "15047218817161520419"
     },
     "user_tz": -240
    },
    "id": "D6bpZwUiiXic",
    "outputId": "b4ab126b-4118-461e-f02a-cfe538ae6a71",
    "scrolled": true
   },
   "outputs": [
    {
     "name": "stdout",
     "output_type": "stream",
     "text": [
      "[[2817   63]\n",
      " [ 103   53]]\n",
      "accuracy: 0.9453\n",
      "recall: 0.3397\n",
      "precision: 0.4569\n",
      "f1-score: 0.3897\n",
      "auc: 0.9074\n"
     ]
    }
   ],
   "source": [
    "# Calculate ROC curve and AUC\n",
    "fpr, tpr, thresholds = roc_curve(y_test, y_prob)\n",
    "cm = confusion_matrix(y_test, y_pred)\n",
    "roc_auc = auc(fpr, tpr)\n",
    "print(cm)\n",
    "print(f'accuracy: {accuracy_score(y_test, y_pred):.4f}')\n",
    "print(f'recall: {recall_score(y_test, y_pred):.4f}')\n",
    "print(f'precision: {precision_score(y_test, y_pred):.4f}')\n",
    "print(f'f1-score: {f1_score(y_test, y_pred):.4f}')\n",
    "print(f'auc: {roc_auc:.4f}')"
   ]
  },
  {
   "cell_type": "code",
   "execution_count": 56,
   "id": "42030d7c",
   "metadata": {
    "scrolled": false
   },
   "outputs": [
    {
     "name": "stdout",
     "output_type": "stream",
     "text": [
      "              precision    recall  f1-score   support\n",
      "\n",
      "           0       0.96      0.98      0.97      2880\n",
      "           1       0.46      0.34      0.39       156\n",
      "\n",
      "    accuracy                           0.95      3036\n",
      "   macro avg       0.71      0.66      0.68      3036\n",
      "weighted avg       0.94      0.95      0.94      3036\n",
      "\n"
     ]
    }
   ],
   "source": [
    "from sklearn.metrics import classification_report\n",
    "print(classification_report(y_test, y_pred))"
   ]
  },
  {
   "cell_type": "code",
   "execution_count": 26,
   "id": "3e02e187",
   "metadata": {},
   "outputs": [
    {
     "data": {
      "image/png": "[encoded data removed]",
      "text/plain": [
       "<Figure size 800x600 with 1 Axes>"
      ]
     },
     "metadata": {},
     "output_type": "display_data"
    }
   ],
   "source": [
    "# Plot ROC curve\n",
    "plt.figure(figsize=(8, 6))\n",
    "plt.plot(fpr, tpr, color='darkorange', lw=2, label=f'AUC = {roc_auc:.2f}')\n",
    "plt.plot([0, 1], [0, 1], color='navy', lw=2, linestyle='--')\n",
    "plt.xlabel('False Positive Rate')\n",
    "plt.ylabel('True Positive Rate')\n",
    "plt.title('Receiver Operating Characteristic (ROC) Curve')\n",
    "plt.legend(loc='lower right')\n",
    "plt.show()"
   ]
  },
  {
   "cell_type": "markdown",
   "id": "b0f0b39f",
   "metadata": {},
   "source": [
    "## Model Evaluation Metrics on test set based on new threshold"
   ]
  },
  {
   "cell_type": "code",
   "execution_count": 154,
   "id": "3029823c",
   "metadata": {
    "scrolled": true
   },
   "outputs": [
    {
     "name": "stdout",
     "output_type": "stream",
     "text": [
      "95/95 [==============================] - 0s 3ms/step\n",
      "With threshold 0.0200 found best from roc of validation set: \n",
      "[[2699  181]\n",
      " [  37  119]]\n",
      "accuracy 0.9282\n",
      "recall: 0.7628\n",
      "precision: 0.3967\n",
      "f1-score: 0.5219\n"
     ]
    }
   ],
   "source": [
    "y_pred_categorical = ann.predict(X_test)\n",
    "y_pred_threshold_adjusted = (y_pred_categorical[:,1]>best_threshold).astype(int)\n",
    "cm = confusion_matrix(y_test, y_pred_threshold_adjusted)\n",
    "# Evaluate the model performance\n",
    "print(f'With threshold {best_threshold:.4f} found best from roc of validation set: ')\n",
    "print(cm)\n",
    "print(f\"accuracy {accuracy_score(y_test, y_pred_threshold_adjusted):.4f}\")\n",
    "print(f'recall: {recall_score(y_test, y_pred_threshold_adjusted):.4f}')\n",
    "print(f'precision: {precision_score(y_test, y_pred_threshold_adjusted):.4f}')\n",
    "print(f'f1-score: {f1_score(y_test, y_pred_threshold_adjusted):.4f}')"
   ]
  },
  {
   "cell_type": "code",
   "execution_count": 21,
   "id": "ec2a130f",
   "metadata": {
    "scrolled": true
   },
   "outputs": [
    {
     "name": "stdout",
     "output_type": "stream",
     "text": [
      "              precision    recall  f1-score   support\n",
      "\n",
      "           0       0.97      0.96      0.97      2880\n",
      "           1       0.43      0.51      0.47       156\n",
      "\n",
      "    accuracy                           0.94      3036\n",
      "   macro avg       0.70      0.74      0.72      3036\n",
      "weighted avg       0.95      0.94      0.94      3036\n",
      "\n"
     ]
    }
   ],
   "source": [
    "from sklearn.metrics import classification_report\n",
    "print(classification_report(y_test, y_pred_threshold_adjusted))"
   ]
  },
  {
   "cell_type": "code",
   "execution_count": 33,
   "id": "44138cc3",
   "metadata": {},
   "outputs": [
    {
     "name": "stdout",
     "output_type": "stream",
     "text": [
      "Accuracy: 0.9347826086956522\n",
      "Confusion Matrix:\n",
      "[[2746  134]\n",
      " [  64   92]]\n",
      "Classification Report:\n",
      "              precision    recall  f1-score   support\n",
      "\n",
      "           0       0.98      0.95      0.97      2880\n",
      "           1       0.41      0.59      0.48       156\n",
      "\n",
      "    accuracy                           0.93      3036\n",
      "   macro avg       0.69      0.77      0.72      3036\n",
      "weighted avg       0.95      0.93      0.94      3036\n",
      "\n"
     ]
    }
   ],
   "source": [
    "from sklearn.ensemble import GradientBoostingClassifier\n",
    "from sklearn.model_selection import train_test_split\n",
    "# You can adjust the hyperparameters like learning_rate, n_estimators, max_depth, etc.\n",
    "gb_classifier = GradientBoostingClassifier(learning_rate=0.1, n_estimators=100, max_depth=3, random_state=0)\n",
    "\n",
    "# Fit the model on the training data\n",
    "gb_classifier.fit(X_train, y_train)"
   ]
  },
  {
   "cell_type": "code",
   "execution_count": 34,
   "id": "1f46a27e",
   "metadata": {},
   "outputs": [
    {
     "name": "stdout",
     "output_type": "stream",
     "text": [
      "[[2746  134]\n",
      " [  64   92]]\n",
      "accuracy: 0.9348\n",
      "recall: 0.5897\n",
      "precision: 0.4071\n",
      "f1-score: 0.4817\n"
     ]
    }
   ],
   "source": [
    "# Make predictions on the test set\n",
    "y_pred = gb_classifier.predict(X_test)\n",
    "\n",
    "# Evaluate the model\n",
    "accuracy = accuracy_score(y_test, y_pred)\n",
    "conf_matrix = confusion_matrix(y_test, y_pred)\n",
    "class_report = classification_report(y_test, y_pred)\n",
    "\n",
    "# Calculate ROC curve and AUC\n",
    "# fpr, tpr, thresholds = roc_curve(y_test, y_prob)\n",
    "cm = confusion_matrix(y_test, y_pred)\n",
    "# roc_auc = auc(fpr, tpr)\n",
    "print(cm)\n",
    "print(f'accuracy: {accuracy_score(y_test, y_pred):.4f}')\n",
    "print(f'recall: {recall_score(y_test, y_pred):.4f}')\n",
    "print(f'precision: {precision_score(y_test, y_pred):.4f}')\n",
    "print(f'f1-score: {f1_score(y_test, y_pred):.4f}')\n",
    "# print(f'auc: {roc_auc:.4f}')"
   ]
  },
  {
   "cell_type": "code",
   "execution_count": null,
   "id": "2bd6ce8f",
   "metadata": {},
   "outputs": [],
   "source": []
  }
 ],
 "metadata": {
  "kernelspec": {
   "display_name": "Python [conda env:py3-TF2]",
   "language": "python",
   "name": "conda-env-py3-TF2-py"
  },
  "language_info": {
   "codemirror_mode": {
    "name": "ipython",
    "version": 3
   },
   "file_extension": ".py",
   "mimetype": "text/x-python",
   "name": "python",
   "nbconvert_exporter": "python",
   "pygments_lexer": "ipython3",
   "version": "3.10.13"
  }
 },
 "nbformat": 4,
 "nbformat_minor": 5
}
